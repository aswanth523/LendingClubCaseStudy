{
 "cells": [
  {
   "cell_type": "markdown",
   "metadata": {
    "pycharm": {
     "name": "#%% md\n"
    }
   },
   "source": [
    "LendingClubCaseStudy"
   ]
  },
  {
   "cell_type": "code",
   "execution_count": 28,
   "metadata": {
    "pycharm": {
     "name": "#%%\n"
    }
   },
   "outputs": [],
   "source": [
    "import pandas as pd\n",
    "import matplotlib.pyplot as plt"
   ]
  },
  {
   "cell_type": "markdown",
   "metadata": {
    "pycharm": {
     "name": "#%% md\n"
    }
   },
   "source": [
    "Reading the Dataset"
   ]
  },
  {
   "cell_type": "code",
   "execution_count": 2,
   "metadata": {
    "pycharm": {
     "name": "#%%\n"
    }
   },
   "outputs": [
    {
     "data": {
      "text/plain": [
       "(39717, 111)"
      ]
     },
     "execution_count": 2,
     "metadata": {},
     "output_type": "execute_result"
    }
   ],
   "source": [
    "df=pd.read_csv('loan.csv',low_memory=False)\n",
    "df.shape"
   ]
  },
  {
   "cell_type": "markdown",
   "metadata": {
    "pycharm": {
     "name": "#%% md\n"
    }
   },
   "source": [
    "Cleaning the dataset"
   ]
  },
  {
   "cell_type": "code",
   "execution_count": 3,
   "metadata": {
    "pycharm": {
     "name": "#%%\n"
    }
   },
   "outputs": [
    {
     "data": {
      "text/plain": [
       "id                              0.0\n",
       "member_id                       0.0\n",
       "loan_amnt                       0.0\n",
       "funded_amnt                     0.0\n",
       "funded_amnt_inv                 0.0\n",
       "                              ...  \n",
       "tax_liens                       0.1\n",
       "tot_hi_cred_lim               100.0\n",
       "total_bal_ex_mort             100.0\n",
       "total_bc_limit                100.0\n",
       "total_il_high_credit_limit    100.0\n",
       "Length: 111, dtype: float64"
      ]
     },
     "execution_count": 3,
     "metadata": {},
     "output_type": "execute_result"
    }
   ],
   "source": [
    "#Checking the percentage of Nan values in dataset\n",
    "percentage_null=round(df.isnull().sum() * 100 / len(df),2)\n",
    "percentage_null"
   ]
  },
  {
   "cell_type": "code",
   "execution_count": 4,
   "metadata": {
    "pycharm": {
     "name": "#%%\n"
    }
   },
   "outputs": [
    {
     "data": {
      "text/plain": [
       "(39717, 55)"
      ]
     },
     "execution_count": 4,
     "metadata": {},
     "output_type": "execute_result"
    }
   ],
   "source": [
    "#Dropping the Columns having greater or equal to 75% Nan values\n",
    "df=df.drop(percentage_null[percentage_null>=75.0].index,axis=1)\n",
    "df.shape"
   ]
  },
  {
   "cell_type": "code",
   "execution_count": 5,
   "metadata": {
    "pycharm": {
     "name": "#%%\n"
    }
   },
   "outputs": [
    {
     "data": {
      "text/plain": [
       "(39717, 46)"
      ]
     },
     "execution_count": 5,
     "metadata": {},
     "output_type": "execute_result"
    }
   ],
   "source": [
    "# Finding the columns having unique data\n",
    "# Sorted unique values based on the columns\n",
    "# Dropping the unnecessary columns as per the column's data uniqueness\n",
    "# dropped columns [tax_liens, delinq_amnt, chargeoff_within_12_mths, acc_now_delinq, application_type, policy_code, collections_12_mths_ex_med, initial_list_status pymnt_plan]\n",
    "\n",
    "columns_with_unique_values=df.nunique().sort_values()\n",
    "df_unique_values = columns_with_unique_values.to_frame().reset_index()\n",
    "df_unique_values.rename(columns = {'index':'names',0:'uniquecount'},inplace = True)\n",
    "df_unique_values=df_unique_values[df_unique_values.uniquecount==1]\n",
    "df_unique_values\n",
    "df=df.drop(columns=df_unique_values['names'][0:len(df_unique_values)],axis=1)\n",
    "df.shape"
   ]
  },
  {
   "cell_type": "code",
   "execution_count": 6,
   "metadata": {},
   "outputs": [
    {
     "data": {
      "text/plain": [
       "(39717, 19)"
      ]
     },
     "execution_count": 6,
     "metadata": {},
     "output_type": "execute_result"
    }
   ],
   "source": [
    "#Dropping the columns which are not required for the data analysis (Customer behaviour)\n",
    "df=df.drop(columns=['delinq_2yrs','id','member_id','desc','title','zip_code','mths_since_last_delinq','pub_rec_bankruptcies','emp_title','earliest_cr_line','inq_last_6mths','open_acc','pub_rec','revol_bal','out_prncp','out_prncp_inv','total_pymnt','total_pymnt_inv','total_rec_prncp','total_rec_int','total_rec_late_fee','recoveries','collection_recovery_fee','last_pymnt_d','last_pymnt_amnt','last_credit_pull_d','url'],axis=1)\n",
    "df.shape\n",
    "\n"
   ]
  },
  {
   "cell_type": "code",
   "execution_count": 7,
   "metadata": {},
   "outputs": [],
   "source": [
    "#Dropping the rows home_ownership is having NONE values\n",
    "df=df[df.home_ownership!='NONE']\n",
    "\n",
    "#Dropping the rows loan_status is having Current Value\n",
    "df=df[df.loan_status!=\"Current\"]\n"
   ]
  },
  {
   "cell_type": "code",
   "execution_count": 8,
   "metadata": {},
   "outputs": [],
   "source": [
    "#Removing the % from int_rate column\n",
    "df.int_rate=df.int_rate.str.strip(\"%\").astype(float)\n",
    "#Removing the % from revol_util column \n",
    "#revol_util column is customer behaviour column can be removed if not required\n",
    "df.revol_util=df.revol_util.str.strip(\"%\").astype(float)\n",
    "#Converting the term column to integers ( eg: 36 months as 36)\n",
    "df.term=df.term.str.strip(\"months\").astype(int)\n",
    "#Formatting issue_d\n",
    "df.issue_d=pd.to_datetime(df.issue_d,format='%b-%y')\n",
    "#converting installment column to int\n",
    "df.installment=df.installment.astype(int)\n"
   ]
  },
  {
   "cell_type": "code",
   "execution_count": 9,
   "metadata": {},
   "outputs": [],
   "source": [
    "#Approved ratio of loan amount (funded_amnt_inv/loan_amnt)*100\n",
    "\n",
    "df['loan_amnt_approved_ratio']=round((df.funded_amnt_inv*100)/(df.loan_amnt),2)\n"
   ]
  },
  {
   "cell_type": "code",
   "execution_count": 10,
   "metadata": {},
   "outputs": [],
   "source": [
    "#emp_length column modification to number of years ( eg: 6 years as 6)\n",
    "\n",
    "#Filling the empty cells of emp_length with 0\n",
    "\n",
    "df.emp_length.fillna(df.emp_length.mode()[0], inplace = True)\n",
    "\n",
    "df.emp_length.isna().sum()\n",
    "\n",
    "df.emp_length=pd.to_numeric(df.emp_length.apply(lambda x: 0 if \"<\" in x else (x.split('+')[0] if \"+\" in x else x.split()[0])))"
   ]
  },
  {
   "cell_type": "code",
   "execution_count": 11,
   "metadata": {},
   "outputs": [
    {
     "data": {
      "text/plain": [
       "100000.0"
      ]
     },
     "execution_count": 11,
     "metadata": {},
     "output_type": "execute_result"
    }
   ],
   "source": [
    "#annual_inc\n",
    "df.annual_inc[14]"
   ]
  },
  {
   "cell_type": "code",
   "execution_count": 12,
   "metadata": {},
   "outputs": [
    {
     "name": "stdout",
     "output_type": "stream",
     "text": [
      "       loan_amnt  funded_amnt  funded_amnt_inv  term  int_rate  installment  \\\n",
      "0           5000         5000           4975.0    36     10.65          162   \n",
      "1           2500         2500           2500.0    60     15.27           59   \n",
      "2           2400         2400           2400.0    36     15.96           84   \n",
      "3          10000        10000          10000.0    36     13.49          339   \n",
      "5           5000         5000           5000.0    36      7.90          156   \n",
      "...          ...          ...              ...   ...       ...          ...   \n",
      "39712       2500         2500           1075.0    36      8.07           78   \n",
      "39713       8500         8500            875.0    36     10.28          275   \n",
      "39714       5000         5000           1325.0    36      8.07          156   \n",
      "39715       5000         5000            650.0    36      7.43          155   \n",
      "39716       7500         7500            800.0    36     13.75          255   \n",
      "\n",
      "      grade sub_grade  emp_length home_ownership  annual_inc  \\\n",
      "0         B        B2          10           RENT     24000.0   \n",
      "1         C        C4           0           RENT     30000.0   \n",
      "2         C        C5          10           RENT     12252.0   \n",
      "3         C        C1          10           RENT     49200.0   \n",
      "5         A        A4           3           RENT     36000.0   \n",
      "...     ...       ...         ...            ...         ...   \n",
      "39712     A        A4           4       MORTGAGE    110000.0   \n",
      "39713     C        C1           3           RENT     18000.0   \n",
      "39714     A        A4           0       MORTGAGE    100000.0   \n",
      "39715     A        A2           0       MORTGAGE    200000.0   \n",
      "39716     E        E2           0            OWN     22000.0   \n",
      "\n",
      "      verification_status    issue_d  loan_status             purpose  \\\n",
      "0                Verified 2011-12-01   Fully Paid         credit_card   \n",
      "1         Source Verified 2011-12-01  Charged Off                 car   \n",
      "2            Not Verified 2011-12-01   Fully Paid      small_business   \n",
      "3         Source Verified 2011-12-01   Fully Paid               other   \n",
      "5         Source Verified 2011-12-01   Fully Paid             wedding   \n",
      "...                   ...        ...          ...                 ...   \n",
      "39712        Not Verified 2007-07-01   Fully Paid    home_improvement   \n",
      "39713        Not Verified 2007-07-01   Fully Paid         credit_card   \n",
      "39714        Not Verified 2007-07-01   Fully Paid  debt_consolidation   \n",
      "39715        Not Verified 2007-07-01   Fully Paid               other   \n",
      "39716        Not Verified 2007-06-01   Fully Paid  debt_consolidation   \n",
      "\n",
      "      addr_state    dti  revol_util  total_acc  loan_amnt_approved_ratio  \n",
      "0             AZ  27.65        83.7          9                     99.50  \n",
      "1             GA   1.00         9.4          4                    100.00  \n",
      "2             IL   8.72        98.5         10                    100.00  \n",
      "3             CA  20.00        21.0         37                    100.00  \n",
      "5             AZ  11.20        28.3         12                    100.00  \n",
      "...          ...    ...         ...        ...                       ...  \n",
      "39712         CO  11.33        13.1         40                     43.00  \n",
      "39713         NC   6.40        26.9          9                     10.29  \n",
      "39714         MA   2.30        19.4         20                     26.50  \n",
      "39715         MD   3.72         0.7         26                     13.00  \n",
      "39716         MA  14.29        51.5          8                     10.67  \n",
      "\n",
      "[38574 rows x 20 columns]\n"
     ]
    }
   ],
   "source": [
    "#Converting final data after cleaning to csv file\n",
    "\n",
    "df.to_csv('loan_data.csv', index = False, encoding='utf-8') # False: not include index\n",
    "print(df)"
   ]
  },
  {
   "cell_type": "markdown",
   "metadata": {},
   "source": [
    "Uni Variate Analysis"
   ]
  },
  {
   "cell_type": "code",
   "execution_count": 35,
   "metadata": {},
   "outputs": [
    {
     "data": {
      "image/png": "[encoded data removed]",
      "text/plain": [
       "<Figure size 432x288 with 1 Axes>"
      ]
     },
     "metadata": {
      "needs_background": "light"
     },
     "output_type": "display_data"
    }
   ],
   "source": [
    "#Histogram\n",
    "\n",
    "plt.hist(df.loan_status,ec='black')\n",
    "plt.xlabel('Loan status')\n",
    "plt.ylabel(\"Count\")\n",
    "plt.title(\"Loan status\")\n",
    "plt.show()\n"
   ]
  },
  {
   "cell_type": "code",
   "execution_count": 37,
   "metadata": {},
   "outputs": [
    {
     "data": {
      "image/png": "[encoded data removed]",
      "text/plain": [
       "<Figure size 432x288 with 1 Axes>"
      ]
     },
     "metadata": {
      "needs_background": "light"
     },
     "output_type": "display_data"
    }
   ],
   "source": [
    "plt.hist(df.loan_amnt_approved_ratio,bins=10,ec='red')\n",
    "plt.xlabel('Loan amount approved ratio')\n",
    "plt.ylabel(\"Count\")\n",
    "plt.title(\"Loan amount approved ratio\")\n",
    "plt.show()\n"
   ]
  },
  {
   "cell_type": "code",
   "execution_count": 39,
   "metadata": {},
   "outputs": [
    {
     "data": {
      "image/png": "[encoded data removed]",
      "text/plain": [
       "<Figure size 432x288 with 1 Axes>"
      ]
     },
     "metadata": {
      "needs_background": "light"
     },
     "output_type": "display_data"
    }
   ],
   "source": [
    "plt.boxplot(df.loan_amnt_approved_ratio)\n",
    "plt.show()"
   ]
  },
  {
   "cell_type": "code",
   "execution_count": 44,
   "metadata": {},
   "outputs": [
    {
     "data": {
      "image/png": "[encoded data removed]",
      "text/plain": [
       "<Figure size 432x288 with 1 Axes>"
      ]
     },
     "metadata": {
      "needs_background": "light"
     },
     "output_type": "display_data"
    }
   ],
   "source": [
    "plt.bar(df.loan_amnt,df.loan_amnt_approved_ratio)\n",
    "plt.show()"
   ]
  },
  {
   "cell_type": "code",
   "execution_count": null,
   "metadata": {},
   "outputs": [],
   "source": []
  }
 ],
 "metadata": {
  "kernelspec": {
   "display_name": "Python 3 (ipykernel)",
   "language": "python",
   "name": "python3"
  },
  "language_info": {
   "codemirror_mode": {
    "name": "ipython",
    "version": 3
   },
   "file_extension": ".py",
   "mimetype": "text/x-python",
   "name": "python",
   "nbconvert_exporter": "python",
   "pygments_lexer": "ipython3",
   "version": "3.9.12"
  }
 },
 "nbformat": 4,
 "nbformat_minor": 1
}
